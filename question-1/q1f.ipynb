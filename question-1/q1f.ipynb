{
 "cells": [
  {
   "cell_type": "code",
   "execution_count": null,
   "metadata": {},
   "outputs": [],
   "source": [
    "import os\n",
    "import numpy as np\n",
    "import matplotlib.pyplot as plt\n",
    "import pandas as pd\n",
    "from pathlib import Path\n",
    "from sklearn.metrics import confusion_matrix\n",
    "from sklearn.cluster import KMeans\n",
    "\n",
    "def read_data_file(filename: str) -> pd.DataFrame:\n",
    "    path = Path(os.getcwd() + 'q1a.ipynb')\n",
    "    data_folder = str(path.parent.absolute()) + '/data/'\n",
    "    return pd.read_csv(data_folder + filename)\n",
    "\n",
    "\n",
    "features = read_data_file('CATSnDOGS.csv') / 255\n",
    "labels = read_data_file('Labels.csv')\n",
    "\n",
    "features_cpy = features.copy()\n",
    "df = features_cpy.join(labels['x'].copy())\n",
    "\n",
    "cat_features = df[df.x == 0]\n",
    "cat_features.reset_index(inplace=True, drop=True)\n",
    "cat_labels = cat_features.pop('x')\n",
    "\n",
    "dog_features = df[df.x == 1]\n",
    "dog_labels = dog_features.pop('x')\n",
    "dog_features.reset_index(inplace=True, drop=True)"
   ]
  }
 ],
 "metadata": {
  "language_info": {
   "name": "python"
  },
  "orig_nbformat": 4
 },
 "nbformat": 4,
 "nbformat_minor": 2
}
