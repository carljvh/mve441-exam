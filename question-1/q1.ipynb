{
 "cells": [
  {
   "cell_type": "markdown",
   "metadata": {},
   "source": [
    "## 1 a)"
   ]
  },
  {
   "cell_type": "code",
   "execution_count": 2,
   "metadata": {},
   "outputs": [],
   "source": [
    "import os\n",
    "import numpy as np\n",
    "import matplotlib.pyplot as plt\n",
    "import pandas as pd\n",
    "from pathlib import Path\n",
    "from sklearn.model_selection import train_test_split, StratifiedKFold, cross_validate\n",
    "from sklearn.svm import SVC\n",
    "from sklearn.linear_model import LogisticRegression\n",
    "from sklearn.ensemble import RandomForestClassifier\n",
    "from sklearn.metrics import confusion_matrix\n",
    "\n",
    "def read_data_file(filename: str) -> pd.DataFrame:\n",
    "    path = Path(os.getcwd() + 'q1.ipynb')\n",
    "    data_folder = str(path.parent.absolute()) + '/data/'\n",
    "    return pd.read_csv(data_folder + filename)\n",
    "\n",
    "\n",
    "features = read_data_file('CATSnDOGS.csv') / 255 # Rescale features to values between 0 and 1\n",
    "labels = read_data_file('Labels.csv')\n",
    "\n",
    "models = [\n",
    "          ('SVM', SVC()),\n",
    "          ('LogReg', LogisticRegression(max_iter=1000)), \n",
    "          ('RF', RandomForestClassifier())\n",
    "        ]"
   ]
  },
  {
   "cell_type": "code",
   "execution_count": 3,
   "metadata": {},
   "outputs": [],
   "source": [
    "def evaluate_ensemble(models: list, features: pd.DataFrame, labels: pd.DataFrame) -> pd.DataFrame:\n",
    "    X_train, X_test, y_train, y_test = train_test_split(features, labels, test_size=0.25, stratify=labels, random_state=None)\n",
    "    dfs = []\n",
    "    scoring = ['accuracy', 'precision', 'recall', 'f1']\n",
    "\n",
    "    for name, model in models:\n",
    "        kfold = StratifiedKFold(n_splits=9, shuffle=True, random_state=42)\n",
    "        cross_validate(model, X_train, y_train.to_numpy().ravel(), cv=kfold, scoring=scoring)\n",
    "        clf = model.fit(X_train, y_train.to_numpy().ravel())\n",
    "        y_pred = clf.predict(X_test)\n",
    "        \n",
    "        df = pd.DataFrame({'_id': y_test.index.values, 'true': y_test.to_numpy().ravel(), 'predicted': y_pred, 'model': name})\n",
    "        dfs.append(df)\n",
    "\n",
    "    result = pd.concat(dfs, ignore_index=True)\n",
    "    return result\n",
    "\n",
    "\n",
    "# want: mean and std for each scoring, for each model over iterations\n",
    "def average_scores(models: list, features: pd.DataFrame, labels: pd.DataFrame, iter: int=5):\n",
    "    matrix = []\n",
    "    for it in range(iter):\n",
    "        res = evaluate_ensemble(models, features, labels)\n",
    "        scores = calc_scores(res)\n",
    "        matrix.append(scores)\n",
    "    \n",
    "    mean = np.mean(matrix, axis=0)\n",
    "    std = np.std(matrix, axis=0)\n",
    "    return mean, std\n",
    "\n",
    "    \n",
    "# want: score for each scoring for each model\n",
    "def calc_scores(ensemble_result: pd.DataFrame) -> np.ndarray:\n",
    "    model_names = ensemble_result.model.unique()\n",
    "    scores = np.zeros((len(model_names), 3))\n",
    "\n",
    "    for i, name in enumerate(model_names):\n",
    "        this_df = ensemble_result[ensemble_result.model == name]\n",
    "        y_true = this_df['true']\n",
    "        y_pred = this_df['predicted']\n",
    "\n",
    "        cm = confusion_matrix(y_true, y_pred)\n",
    "        tn, fp, fn, tp = cm.ravel()\n",
    "        cat_accuracy = tn / (tn + fp) # specificity\n",
    "        dog_accuracy = tp / (tp + fn) # recall\n",
    "        accuracy = (tn + tp)/(tn + fp + fn + tp)\n",
    "        scores[i][0] = cat_accuracy\n",
    "        scores[i][1] = dog_accuracy\n",
    "        scores[i][2] = accuracy\n",
    "\n",
    "    return scores\n",
    "\n",
    "\n",
    "def detect_mislabels(models: list, features: pd.DataFrame, labels: pd.DataFrame, iter: int = 5, vote_limit: float = 0.5) -> dict:  \n",
    "    mislabels = {}\n",
    "    dfs = []\n",
    "\n",
    "    for it in range(iter):\n",
    "        res = evaluate_ensemble(models, features, labels)\n",
    "        res['vote'] = np.absolute(res.true-res.predicted)\n",
    "        dfs.append(res)\n",
    "\n",
    "    df = pd.concat(dfs, ignore_index=True)\n",
    "    model_names = df.model.unique()\n",
    "\n",
    "    for i, name in enumerate(model_names):\n",
    "        mislabelled_ids = []\n",
    "        model_df = df[df.model == name]\n",
    "        _ids = model_df._id.unique()\n",
    "\n",
    "        for _id in _ids:\n",
    "            _id_df = model_df[model_df._id == _id]\n",
    "            total = len(_id_df.index)\n",
    "            vote = _id_df['vote'].sum()\n",
    "            \n",
    "            if vote/total < vote_limit:\n",
    "                continue\n",
    "            else:\n",
    "                mislabelled_ids.append(_id)\n",
    "\n",
    "        mislabels[name] = mislabelled_ids\n",
    "\n",
    "    return mislabels\n",
    "\n",
    "mean, std = average_scores(models, features, labels, iter=10)\n",
    "mislabels = detect_mislabels(models, features, labels, iter=10)"
   ]
  },
  {
   "cell_type": "markdown",
   "metadata": {},
   "source": [
    "Are the cats and dogs well separated, i.e. can you obtain good classification test accuracy performance on this data set? Compare at least 3 classifiers.\n",
    "\n",
    "_Answer:_"
   ]
  },
  {
   "cell_type": "code",
   "execution_count": 4,
   "metadata": {},
   "outputs": [
    {
     "name": "stdout",
     "output_type": "stream",
     "text": [
      "SVM - mean accuracies (std) \n",
      " cat (specificity): 0.875000 (0.055902) \n",
      " dog (recall): 0.757692 (0.078916) \n",
      " overall: 0.814000 (0.026907) \n",
      "\n",
      "LogReg - mean accuracies (std) \n",
      " cat (specificity): 0.816667 (0.056519) \n",
      " dog (recall): 0.696154 (0.073882) \n",
      " overall: 0.754000 (0.029732) \n",
      "\n",
      "RF - mean accuracies (std) \n",
      " cat (specificity): 0.779167 (0.069846) \n",
      " dog (recall): 0.742308 (0.084353) \n",
      " overall: 0.760000 (0.036878) \n",
      "\n"
     ]
    }
   ],
   "source": [
    "names = ['SVM', 'LogReg', 'RF']\n",
    "for i, name in enumerate(names):\n",
    "    print(name + \" - mean accuracies (std) \\n cat (specificity): %f (%f) \\n dog (recall): %f (%f) \\n overall: %f (%f) \\n\" % (mean[i][0], std[i,0], mean[i][1], std[i,1], mean[i][2], std[i,2]))"
   ]
  },
  {
   "cell_type": "markdown",
   "metadata": {},
   "source": [
    "Are there any images that are consistently mislabeled by the classifiers (use resampling to ascertain)? \n",
    "\n",
    "Do the classifiers struggle with the same observations?\n",
    "\n",
    "_Answer:_"
   ]
  },
  {
   "cell_type": "code",
   "execution_count": 5,
   "metadata": {},
   "outputs": [
    {
     "name": "stdout",
     "output_type": "stream",
     "text": [
      "About 65.79 percent of mislabels by the SVM is shared by all models.\n",
      "About 67.57 percent of mislabels by the LogReg is shared by all models.\n",
      "About 56.82 percent of mislabels by the RF is shared by all models.\n"
     ]
    }
   ],
   "source": [
    "mislabels_svm = set(mislabels['SVM'])\n",
    "mislabels_logreg = set(mislabels['LogReg'])\n",
    "mislabels_rf = set(mislabels['RF'])\n",
    "\n",
    "intersection = mislabels_svm.intersection(mislabels_logreg).intersection(mislabels_rf)\n",
    "all = [('SVM', mislabels_svm), ('LogReg', mislabels_logreg), ('RF', mislabels_rf)]\n",
    "for name, mislabel in all:\n",
    "    print(\"About %s percent of mislabels by the %s is shared by all models.\" % (np.around((len(intersection)/len(mislabel)*100), 2), name))"
   ]
  },
  {
   "cell_type": "markdown",
   "metadata": {},
   "source": [
    "Why do you think these are difficult images to classify?\n",
    "\n",
    "Are the errors balanced or is one class more difficult to classify correctly?\n",
    "\n",
    "_Answer:_"
   ]
  },
  {
   "cell_type": "code",
   "execution_count": 9,
   "metadata": {},
   "outputs": [
    {
     "name": "stdout",
     "output_type": "stream",
     "text": [
      "Intersection: {131, 8, 139, 12, 14, 21, 151, 158, 162, 171, 176, 177, 54, 58, 63, 192, 85, 90, 93, 96, 98, 108, 112, 113, 117}\n",
      "dog\n"
     ]
    },
    {
     "data": {
      "image/png": "[encoded data removed]",
      "text/plain": [
       "<Figure size 640x480 with 1 Axes>"
      ]
     },
     "metadata": {},
     "output_type": "display_data"
    },
    {
     "name": "stdout",
     "output_type": "stream",
     "text": [
      "The data is mislabeled...\n",
      "Fraction of missclassified dogs: 0.680000\n",
      "Fraction of missclassified cats: 0.320000 \n",
      "(according to algorithm)\n"
     ]
    }
   ],
   "source": [
    "print(\"Intersection: %s\" % intersection)\n",
    "_id = 8\n",
    "sample = features.iloc[_id,:]\n",
    "data = np.array(sample).reshape(64,64).T\n",
    "plt.imshow(data, interpolation='nearest')\n",
    "if labels.iat[_id,0] == 1:\n",
    "    print(\"dog\")\n",
    "else:\n",
    "    print(\"cat\")\n",
    "plt.show()\n",
    "\n",
    "print(\"The data is mislabeled...\")\n",
    "\n",
    "tmp = labels.iloc[list(intersection), 0]\n",
    "frac_mislabeled_dogs = tmp.sum() / len(tmp)\n",
    "frac_mislabeled_cats = 1-tmp.sum() / len(tmp)\n",
    "print(\"Fraction of missclassified dogs: %f\" % frac_mislabeled_dogs)\n",
    "print(\"Fraction of missclassified cats: %f \\n(according to algorithm)\" % frac_mislabeled_cats)\n"
   ]
  },
  {
   "cell_type": "markdown",
   "metadata": {},
   "source": [
    "## 1 b)"
   ]
  }
 ],
 "metadata": {
  "interpreter": {
   "hash": "8230433a90deedfd204f402afa77435b9f1612df21a8fe919bc9fb2fb8e7ebcb"
  },
  "kernelspec": {
   "display_name": "Python 3.8.12 ('dat405')",
   "language": "python",
   "name": "python3"
  },
  "language_info": {
   "codemirror_mode": {
    "name": "ipython",
    "version": 3
   },
   "file_extension": ".py",
   "mimetype": "text/x-python",
   "name": "python",
   "nbconvert_exporter": "python",
   "pygments_lexer": "ipython3",
   "version": "3.8.12"
  },
  "orig_nbformat": 4
 },
 "nbformat": 4,
 "nbformat_minor": 2
}
