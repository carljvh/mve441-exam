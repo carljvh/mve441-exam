{
 "cells": [
  {
   "cell_type": "code",
   "execution_count": 24,
   "metadata": {},
   "outputs": [],
   "source": [
    "import os\n",
    "import numpy as np\n",
    "import matplotlib.pyplot as plt\n",
    "import pandas as pd\n",
    "from pathlib import Path\n",
    "from sklearn.model_selection import train_test_split, StratifiedKFold, cross_validate\n",
    "from sklearn.svm import SVC, LinearSVC\n",
    "from sklearn.linear_model import LogisticRegression\n",
    "from sklearn.ensemble import RandomForestClassifier\n",
    "from sklearn.metrics import confusion_matrix\n",
    "from sklearn.preprocessing import StandardScaler\n",
    "from sklearn.decomposition import PCA\n",
    "from sklearn.cluster import KMeans\n",
    "\n",
    "def read_data_file(filename: str) -> pd.DataFrame:\n",
    "    path = Path(os.getcwd() + 'q1c.ipynb')\n",
    "    data_folder = str(path.parent.absolute()) + '/data/'\n",
    "    return pd.read_csv(data_folder + filename)\n",
    "\n",
    "\n",
    "features = read_data_file('chi2_top_features.csv')\n",
    "original_mean = np.mean(features.to_numpy(), axis=0)\n",
    "features = StandardScaler().fit_transform(features) # center and normalize\n",
    "labels = read_data_file('Labels.csv')"
   ]
  },
  {
   "cell_type": "markdown",
   "metadata": {},
   "source": [
    "Cluster the data set. Do the clusters agree with the class labels? Does changing the number of clusters have an impact on the overlap with the class labels?\n",
    "\n",
    "What characteristics of the data does the clustering pick up?\n",
    "\n",
    "Please think carefully about how you go about this question - how do you choose your input (e.g. do you perform preprocessing or not) to the clustering algorithm? what method and settings? Is it as clear cut how to make these choices if you didn't know the labels?"
   ]
  },
  {
   "cell_type": "code",
   "execution_count": 26,
   "metadata": {},
   "outputs": [
    {
     "name": "stdout",
     "output_type": "stream",
     "text": [
      "57\n"
     ]
    }
   ],
   "source": [
    "# Find a way to import top selected features    </\n",
    "# Center data                                   </\n",
    "# Is is possible to perform PCA?                -> Yes\n",
    "# Should I do PCA?                              -> Try without first\n",
    "# How do I visualize clustering?\n",
    "# Visualize or show internal indices\n",
    "# Compare cluster labels to class labels\n",
    "\n",
    "\"\"\"\n",
    "variance = 0.98\n",
    "pca = PCA(variance)\n",
    "principal_df = pd.DataFrame(data = pca.fit_transform(features))\n",
    "print(len(principal_df.columns))\n",
    "\"\"\"\n",
    "\n",
    "clf = KMeans(n_clusters=2).fit(features)\n"
   ]
  }
 ],
 "metadata": {
  "interpreter": {
   "hash": "8230433a90deedfd204f402afa77435b9f1612df21a8fe919bc9fb2fb8e7ebcb"
  },
  "kernelspec": {
   "display_name": "Python 3.8.12 ('dat405')",
   "language": "python",
   "name": "python3"
  },
  "language_info": {
   "codemirror_mode": {
    "name": "ipython",
    "version": 3
   },
   "file_extension": ".py",
   "mimetype": "text/x-python",
   "name": "python",
   "nbconvert_exporter": "python",
   "pygments_lexer": "ipython3",
   "version": "3.8.12"
  },
  "orig_nbformat": 4
 },
 "nbformat": 4,
 "nbformat_minor": 2
}
